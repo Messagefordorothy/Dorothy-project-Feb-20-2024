{
  "nbformat": 4,
  "nbformat_minor": 0,
  "metadata": {
    "colab": {
      "provenance": [],
      "authorship_tag": "ABX9TyNqdAewQ0EID+THAAXAcNbJ",
      "include_colab_link": true
    },
    "kernelspec": {
      "name": "python3",
      "display_name": "Python 3"
    },
    "language_info": {
      "name": "python"
    }
  },
  "cells": [
    {
      "cell_type": "markdown",
      "metadata": {
        "id": "view-in-github",
        "colab_type": "text"
      },
      "source": [
        "<a href=\"https://colab.research.google.com/github/Messagefordorothy/Dorothy-project-Feb-20-2024/blob/main/Chisquare_test_Dr_Waiyego.ipynb\" target=\"_parent\"><img src=\"https://colab.research.google.com/assets/colab-badge.svg\" alt=\"Open In Colab\"/></a>"
      ]
    },
    {
      "cell_type": "code",
      "execution_count": 32,
      "metadata": {
        "id": "rLFwg-VkeXmQ"
      },
      "outputs": [],
      "source": [
        "import numpy as np\n",
        "import pandas as pd\n",
        "import scipy.stats as stats\n",
        "from scipy.stats import chi2_contingency"
      ]
    },
    {
      "cell_type": "code",
      "source": [
        "\n",
        "# Data setup\n",
        "data = {\n",
        "    'Hypothermia': [53, 5, 75],\n",
        "    'Non-Hypothermic': [19, 1, 18]\n",
        "}\n",
        "index_labels = ['SVD', 'ELCS', 'EMCS']\n",
        "\n",
        "# Create a DataFrame\n",
        "contingency_table = pd.DataFrame(data, index=index_labels)\n",
        "\n",
        "# Perform the chi-square test\n",
        "chi2, p, dof, expected = chi2_contingency(contingency_table)\n",
        "\n",
        "# Display the results\n",
        "print(\"Contingency Table:\")\n",
        "print(contingency_table)\n",
        "print(\"\\nChi-square Statistic:\", chi2)\n",
        "print(\"P-value:\", p)\n",
        "print(\"Degrees of Freedom:\", dof)\n",
        "print(\"Expected Frequencies:\")\n",
        "print(pd.DataFrame(expected, index=index_labels, columns=contingency_table.columns))\n",
        "\n",
        "# Interpretation\n",
        "if p < 0.1:\n",
        "    print(\"\\nConclusion: There is a significant association between mode of delivery and hypothermia status.\")\n",
        "else:\n",
        "    print(\"\\nConclusion: There is no significant association between mode of delivery and hypothermia status.\")\n"
      ],
      "metadata": {
        "colab": {
          "base_uri": "https://localhost:8080/"
        },
        "id": "4u97crpfiJJX",
        "outputId": "8c9e32c3-1703-4c09-e49c-36ddec6b3c62"
      },
      "execution_count": 33,
      "outputs": [
        {
          "output_type": "stream",
          "name": "stdout",
          "text": [
            "Contingency Table:\n",
            "      Hypothermia  Non-Hypothermic\n",
            "SVD            53               19\n",
            "ELCS            5                1\n",
            "EMCS           75               18\n",
            "\n",
            "Chi-square Statistic: 1.2727534562211986\n",
            "P-value: 0.5292064132182457\n",
            "Degrees of Freedom: 2\n",
            "Expected Frequencies:\n",
            "      Hypothermia  Non-Hypothermic\n",
            "SVD     56.000000        16.000000\n",
            "ELCS     4.666667         1.333333\n",
            "EMCS    72.333333        20.666667\n",
            "\n",
            "Conclusion: There is no significant association between mode of delivery and hypothermia status.\n"
          ]
        }
      ]
    },
    {
      "cell_type": "code",
      "source": [
        "\n",
        "def chi_square_test(data, index_labels, column_labels=None):\n",
        "    \"\"\"\n",
        "    Perform a chi-square test on a given dataset.\n",
        "\n",
        "    Parameters:\n",
        "    - data: dict\n",
        "        A dictionary with columns as keys and values as lists of counts.\n",
        "    - index_labels: list\n",
        "        A list of row labels for the contingency table (e.g., categories like 'SVD', 'ELCS').\n",
        "    - column_labels: list (optional)\n",
        "        A list of column labels for the contingency table (e.g., 'Hypothermia', 'Non-Hypothermic').\n",
        "        If not provided, the keys of the data dictionary will be used.\n",
        "\n",
        "    Returns:\n",
        "    - None: Prints the chi-square statistic, p-value, degrees of freedom, and expected frequencies.\n",
        "    \"\"\"\n",
        "    # If column labels aren't provided, use the keys from the data dictionary\n",
        "    if column_labels is None:\n",
        "        column_labels = list(data.keys())\n",
        "\n",
        "    # Create the contingency table\n",
        "    contingency_table = pd.DataFrame(data, index=index_labels, columns=column_labels)\n",
        "\n",
        "    # Perform the chi-square test\n",
        "    chi2, p, dof, expected = chi2_contingency(contingency_table)\n",
        "\n",
        "    # Display results\n",
        "    print(\"Contingency Table:\")\n",
        "    print(contingency_table)\n",
        "    print(\"\\nChi-square Statistic:\", chi2)\n",
        "    print(\"P-value:\", p)\n",
        "    print(\"Degrees of Freedom:\", dof)\n",
        "    print(\"\\nExpected Frequencies:\")\n",
        "    print(pd.DataFrame(expected, index=index_labels, columns=column_labels))\n",
        "\n",
        "    # Interpretation\n",
        "    if p < 0.15:\n",
        "        print(\"\\nConclusion: There is a significant association between the categories.\")\n",
        "    else:\n",
        "        print(\"\\nConclusion: There is no significant association between the categories.\")\n"
      ],
      "metadata": {
        "id": "_t1WnlcZewwY"
      },
      "execution_count": 34,
      "outputs": []
    },
    {
      "cell_type": "code",
      "source": [
        "data ={\n",
        "    'Hypothermia': [52, 82, 9],\n",
        "    'Non-Hypothermic': [18, 15, 5]\n",
        "}\n",
        "index_labels = ['Labour ward','Theatre', 'Referral in']\n",
        "\n",
        "chi_square_test(data, index_labels)"
      ],
      "metadata": {
        "colab": {
          "base_uri": "https://localhost:8080/"
        },
        "id": "DtpXb9C_kJkG",
        "outputId": "e254560f-5ca0-4473-d347-ac6b4eb855ee"
      },
      "execution_count": 35,
      "outputs": [
        {
          "output_type": "stream",
          "name": "stdout",
          "text": [
            "Contingency Table:\n",
            "             Hypothermia  Non-Hypothermic\n",
            "Labour ward           52               18\n",
            "Theatre               82               15\n",
            "Referral in            9                5\n",
            "\n",
            "Chi-square Statistic: 4.557678431172736\n",
            "P-value: 0.10240300556504062\n",
            "Degrees of Freedom: 2\n",
            "\n",
            "Expected Frequencies:\n",
            "             Hypothermia  Non-Hypothermic\n",
            "Labour ward    55.303867        14.696133\n",
            "Theatre        76.635359        20.364641\n",
            "Referral in    11.060773         2.939227\n",
            "\n",
            "Conclusion: There is a significant association between the categories.\n"
          ]
        }
      ]
    },
    {
      "cell_type": "code",
      "source": [
        "data={\n",
        "    'Hypothermia': [11, 97, 5],\n",
        "    'Non-Hypothermic': [3,30, 2]\n",
        "}\n",
        "index_labels = ['<28weeks','28 - <32', '≥32 weeks']\n",
        "\n",
        "chi_square_test(data, index_labels)"
      ],
      "metadata": {
        "colab": {
          "base_uri": "https://localhost:8080/"
        },
        "id": "JuybMRfilq4Y",
        "outputId": "427d33af-8850-46e7-a35d-eb83fb7400db"
      },
      "execution_count": 36,
      "outputs": [
        {
          "output_type": "stream",
          "name": "stdout",
          "text": [
            "Contingency Table:\n",
            "           Hypothermia  Non-Hypothermic\n",
            "<28weeks            11                3\n",
            "28 - <32            97               30\n",
            "≥32 weeks            5                2\n",
            "\n",
            "Chi-square Statistic: 0.13221520508419382\n",
            "P-value: 0.9360301396500966\n",
            "Degrees of Freedom: 2\n",
            "\n",
            "Expected Frequencies:\n",
            "           Hypothermia  Non-Hypothermic\n",
            "<28weeks     10.689189         3.310811\n",
            "28 - <32     96.966216        30.033784\n",
            "≥32 weeks     5.344595         1.655405\n",
            "\n",
            "Conclusion: There is no significant association between the categories.\n"
          ]
        }
      ]
    },
    {
      "cell_type": "code",
      "source": [
        "data={\n",
        "    'Hypothermia': [15,72,32,3],\n",
        "    'Non-Hypothermic': [5,20,10,1]\n",
        "}\n",
        "index_labels = ['< 1000','1000-<1500', '1500-<2000','>=2000']\n",
        "chi_square_test(data, index_labels)\n"
      ],
      "metadata": {
        "colab": {
          "base_uri": "https://localhost:8080/"
        },
        "id": "grOKVdb4mIm9",
        "outputId": "4040de2a-59d5-4c8c-e10a-5095ed1f047b"
      },
      "execution_count": 37,
      "outputs": [
        {
          "output_type": "stream",
          "name": "stdout",
          "text": [
            "Contingency Table:\n",
            "            Hypothermia  Non-Hypothermic\n",
            "< 1000               15                5\n",
            "1000-<1500           72               20\n",
            "1500-<2000           32               10\n",
            ">=2000                3                1\n",
            "\n",
            "Chi-square Statistic: 0.1491861732417685\n",
            "P-value: 0.9853425817948713\n",
            "Degrees of Freedom: 3\n",
            "\n",
            "Expected Frequencies:\n",
            "            Hypothermia  Non-Hypothermic\n",
            "< 1000        15.443038         4.556962\n",
            "1000-<1500    71.037975        20.962025\n",
            "1500-<2000    32.430380         9.569620\n",
            ">=2000         3.088608         0.911392\n",
            "\n",
            "Conclusion: There is no significant association between the categories.\n"
          ]
        }
      ]
    },
    {
      "cell_type": "code",
      "source": [
        "data={\n",
        "    'Hypothermia': [14,66,31,3]\n",
        "    ,'Non-Hypothermic': [4,17,9,1]\n",
        "}\n",
        "index_labels = ['< 1000','1000-<1500', '1500-<2000','>=2000']\n",
        "chi_square_test(data, index_labels)"
      ],
      "metadata": {
        "colab": {
          "base_uri": "https://localhost:8080/"
        },
        "id": "QwNY5_5Sm1zn",
        "outputId": "5cb89b33-e513-43bb-ef60-63c8956a5583"
      },
      "execution_count": 38,
      "outputs": [
        {
          "output_type": "stream",
          "name": "stdout",
          "text": [
            "Contingency Table:\n",
            "            Hypothermia  Non-Hypothermic\n",
            "< 1000               14                4\n",
            "1000-<1500           66               17\n",
            "1500-<2000           31                9\n",
            ">=2000                3                1\n",
            "\n",
            "Chi-square Statistic: 0.10845897265727682\n",
            "P-value: 0.9908033437176956\n",
            "Degrees of Freedom: 3\n",
            "\n",
            "Expected Frequencies:\n",
            "            Hypothermia  Non-Hypothermic\n",
            "< 1000        14.151724         3.848276\n",
            "1000-<1500    65.255172        17.744828\n",
            "1500-<2000    31.448276         8.551724\n",
            ">=2000         3.144828         0.855172\n",
            "\n",
            "Conclusion: There is no significant association between the categories.\n"
          ]
        }
      ]
    },
    {
      "cell_type": "code",
      "source": [
        "data={\n",
        "    'Hypothermia': [1,6,1]\n",
        "    ,'Non-Hypothermic': [1,3,1]\n",
        "}\n",
        "index_labels = ['< 1000','1000-<1500', '1500-<2000']\n",
        "chi_square_test(data, index_labels)"
      ],
      "metadata": {
        "colab": {
          "base_uri": "https://localhost:8080/"
        },
        "id": "qpBoVQVxnNlx",
        "outputId": "4e3e67e1-a7a7-4cb4-851e-15d823f2bd34"
      },
      "execution_count": 39,
      "outputs": [
        {
          "output_type": "stream",
          "name": "stdout",
          "text": [
            "Contingency Table:\n",
            "            Hypothermia  Non-Hypothermic\n",
            "< 1000                1                1\n",
            "1000-<1500            6                3\n",
            "1500-<2000            1                1\n",
            "\n",
            "Chi-square Statistic: 0.32500000000000007\n",
            "P-value: 0.8500160902253981\n",
            "Degrees of Freedom: 2\n",
            "\n",
            "Expected Frequencies:\n",
            "            Hypothermia  Non-Hypothermic\n",
            "< 1000         1.230769         0.769231\n",
            "1000-<1500     5.538462         3.461538\n",
            "1500-<2000     1.230769         0.769231\n",
            "\n",
            "Conclusion: There is no significant association between the categories.\n"
          ]
        }
      ]
    },
    {
      "cell_type": "code",
      "source": [
        "data={\n",
        "    'Hypothermia': [16,8]\n",
        "    ,'Non-Hypothermic': [19,2]\n",
        "}\n",
        "index_labels = ['Labor ward','theatre']\n",
        "chi_square_test(data, index_labels)"
      ],
      "metadata": {
        "colab": {
          "base_uri": "https://localhost:8080/"
        },
        "id": "DHJweddqnfVq",
        "outputId": "c9cd31bb-2e4e-4c2f-f780-3ea998f9b0b5"
      },
      "execution_count": 40,
      "outputs": [
        {
          "output_type": "stream",
          "name": "stdout",
          "text": [
            "Contingency Table:\n",
            "            Hypothermia  Non-Hypothermic\n",
            "Labor ward           16               19\n",
            "theatre               8                2\n",
            "\n",
            "Chi-square Statistic: 2.425063775510205\n",
            "P-value: 0.11940838199542643\n",
            "Degrees of Freedom: 1\n",
            "\n",
            "Expected Frequencies:\n",
            "            Hypothermia  Non-Hypothermic\n",
            "Labor ward    18.666667        16.333333\n",
            "theatre        5.333333         4.666667\n",
            "\n",
            "Conclusion: There is a significant association between the categories.\n"
          ]
        }
      ]
    },
    {
      "cell_type": "code",
      "source": [
        "data={\n",
        "    'Hypothermia': [113,33]\n",
        "    ,'Non-Hypothermic': [16,3]\n",
        "}\n",
        "index_labels = ['Alive','dead']\n",
        "chi_square_test(data, index_labels)"
      ],
      "metadata": {
        "colab": {
          "base_uri": "https://localhost:8080/"
        },
        "id": "NlQ7zbi1oAFb",
        "outputId": "c5a51c51-483b-4950-eb83-28897cacd8f8"
      },
      "execution_count": 41,
      "outputs": [
        {
          "output_type": "stream",
          "name": "stdout",
          "text": [
            "Contingency Table:\n",
            "       Hypothermia  Non-Hypothermic\n",
            "Alive          113               16\n",
            "dead            33                3\n",
            "\n",
            "Chi-square Statistic: 0.14527286178970827\n",
            "P-value: 0.7030943430517749\n",
            "Degrees of Freedom: 1\n",
            "\n",
            "Expected Frequencies:\n",
            "       Hypothermia  Non-Hypothermic\n",
            "Alive   114.145455        14.854545\n",
            "dead     31.854545         4.145455\n",
            "\n",
            "Conclusion: There is no significant association between the categories.\n"
          ]
        }
      ]
    },
    {
      "cell_type": "code",
      "source": [
        "data={\n",
        "    'Hypothermia': [7,149]\n",
        "    ,'Non-Hypothermic': [0,3]\n",
        "}\n",
        "index_labels = ['Late-onset sepsis (antibiotics after day 7)','No antibiotics after day 7']\n",
        "chi_square_test(data, index_labels)"
      ],
      "metadata": {
        "colab": {
          "base_uri": "https://localhost:8080/"
        },
        "id": "2EBZ7omtoKIz",
        "outputId": "1589a384-3345-4d3a-c252-2358e513887b"
      },
      "execution_count": 42,
      "outputs": [
        {
          "output_type": "stream",
          "name": "stdout",
          "text": [
            "Contingency Table:\n",
            "                                             Hypothermia  Non-Hypothermic\n",
            "Late-onset sepsis (antibiotics after day 7)            7                0\n",
            "No antibiotics after day 7                           149                3\n",
            "\n",
            "Chi-square Statistic: 0.0\n",
            "P-value: 1.0\n",
            "Degrees of Freedom: 1\n",
            "\n",
            "Expected Frequencies:\n",
            "                                             Hypothermia  Non-Hypothermic\n",
            "Late-onset sepsis (antibiotics after day 7)     6.867925         0.132075\n",
            "No antibiotics after day 7                    149.132075         2.867925\n",
            "\n",
            "Conclusion: There is no significant association between the categories.\n"
          ]
        }
      ]
    },
    {
      "cell_type": "code",
      "source": [
        "data={\n",
        "    'Hypothermia': [3,9,6,111]\n",
        "    ,'Non-Hypothermic': [0,2,4,28]\n",
        "}\n",
        "index_labels = ['<5 days','5-<10 days','10-<14 days', '≥14 days']\n",
        "chi_square_test(data, index_labels)"
      ],
      "metadata": {
        "colab": {
          "base_uri": "https://localhost:8080/"
        },
        "id": "zCskV1F2oWk6",
        "outputId": "be4c01c0-7956-4e0f-a01a-1050a9bb134b"
      },
      "execution_count": 43,
      "outputs": [
        {
          "output_type": "stream",
          "name": "stdout",
          "text": [
            "Contingency Table:\n",
            "             Hypothermia  Non-Hypothermic\n",
            "<5 days                3                0\n",
            "5-<10 days             9                2\n",
            "10-<14 days            6                4\n",
            "≥14 days             111               28\n",
            "\n",
            "Chi-square Statistic: 3.1009257411879227\n",
            "P-value: 0.376324655849714\n",
            "Degrees of Freedom: 3\n",
            "\n",
            "Expected Frequencies:\n",
            "             Hypothermia  Non-Hypothermic\n",
            "<5 days         2.374233         0.625767\n",
            "5-<10 days      8.705521         2.294479\n",
            "10-<14 days     7.914110         2.085890\n",
            "≥14 days      110.006135        28.993865\n",
            "\n",
            "Conclusion: There is no significant association between the categories.\n"
          ]
        }
      ]
    }
  ]
}